{
 "cells": [
  {
   "cell_type": "code",
   "execution_count": 88,
   "metadata": {
    "collapsed": true
   },
   "outputs": [],
   "source": [
    "import pandas as pd\n",
    "import statsmodels.api as sm\n",
    "import numpy as np\n",
    "import glob\n",
    "from scipy.stats import t"
   ]
  },
  {
   "cell_type": "code",
   "execution_count": 46,
   "outputs": [
    {
     "data": {
      "text/plain": "         Stkcd       Trddt      Dsmvosd    Dretwd  Markettype  Trdsta\n0            1  2002-01-04  17067373.40 -0.011429           4       1\n1            1  2002-01-07  16968718.06 -0.005780           4       1\n2            1  2002-01-08  16940530.82 -0.001661           4       1\n3            1  2002-01-09  16757313.76 -0.010815           4       1\n4            1  2002-01-10  16644564.81 -0.006728           4       1\n...        ...         ...          ...       ...         ...     ...\n999995  300033  2010-01-12    976953.60  0.010987          16       1\n999996  300033  2010-01-13   1034208.00  0.058605          16       1\n999997  300033  2010-01-14   1047648.00  0.012995          16       1\n999998  300033  2010-01-15   1102080.00  0.051956          16       1\n999999  300033  2010-01-18   1104230.40  0.001951          16       1\n\n[2607272 rows x 6 columns]",
      "text/html": "<div>\n<style scoped>\n    .dataframe tbody tr th:only-of-type {\n        vertical-align: middle;\n    }\n\n    .dataframe tbody tr th {\n        vertical-align: top;\n    }\n\n    .dataframe thead th {\n        text-align: right;\n    }\n</style>\n<table border=\"1\" class=\"dataframe\">\n  <thead>\n    <tr style=\"text-align: right;\">\n      <th></th>\n      <th>Stkcd</th>\n      <th>Trddt</th>\n      <th>Dsmvosd</th>\n      <th>Dretwd</th>\n      <th>Markettype</th>\n      <th>Trdsta</th>\n    </tr>\n  </thead>\n  <tbody>\n    <tr>\n      <th>0</th>\n      <td>1</td>\n      <td>2002-01-04</td>\n      <td>17067373.40</td>\n      <td>-0.011429</td>\n      <td>4</td>\n      <td>1</td>\n    </tr>\n    <tr>\n      <th>1</th>\n      <td>1</td>\n      <td>2002-01-07</td>\n      <td>16968718.06</td>\n      <td>-0.005780</td>\n      <td>4</td>\n      <td>1</td>\n    </tr>\n    <tr>\n      <th>2</th>\n      <td>1</td>\n      <td>2002-01-08</td>\n      <td>16940530.82</td>\n      <td>-0.001661</td>\n      <td>4</td>\n      <td>1</td>\n    </tr>\n    <tr>\n      <th>3</th>\n      <td>1</td>\n      <td>2002-01-09</td>\n      <td>16757313.76</td>\n      <td>-0.010815</td>\n      <td>4</td>\n      <td>1</td>\n    </tr>\n    <tr>\n      <th>4</th>\n      <td>1</td>\n      <td>2002-01-10</td>\n      <td>16644564.81</td>\n      <td>-0.006728</td>\n      <td>4</td>\n      <td>1</td>\n    </tr>\n    <tr>\n      <th>...</th>\n      <td>...</td>\n      <td>...</td>\n      <td>...</td>\n      <td>...</td>\n      <td>...</td>\n      <td>...</td>\n    </tr>\n    <tr>\n      <th>999995</th>\n      <td>300033</td>\n      <td>2010-01-12</td>\n      <td>976953.60</td>\n      <td>0.010987</td>\n      <td>16</td>\n      <td>1</td>\n    </tr>\n    <tr>\n      <th>999996</th>\n      <td>300033</td>\n      <td>2010-01-13</td>\n      <td>1034208.00</td>\n      <td>0.058605</td>\n      <td>16</td>\n      <td>1</td>\n    </tr>\n    <tr>\n      <th>999997</th>\n      <td>300033</td>\n      <td>2010-01-14</td>\n      <td>1047648.00</td>\n      <td>0.012995</td>\n      <td>16</td>\n      <td>1</td>\n    </tr>\n    <tr>\n      <th>999998</th>\n      <td>300033</td>\n      <td>2010-01-15</td>\n      <td>1102080.00</td>\n      <td>0.051956</td>\n      <td>16</td>\n      <td>1</td>\n    </tr>\n    <tr>\n      <th>999999</th>\n      <td>300033</td>\n      <td>2010-01-18</td>\n      <td>1104230.40</td>\n      <td>0.001951</td>\n      <td>16</td>\n      <td>1</td>\n    </tr>\n  </tbody>\n</table>\n<p>2607272 rows × 6 columns</p>\n</div>"
     },
     "execution_count": 46,
     "metadata": {},
     "output_type": "execute_result"
    }
   ],
   "source": [
    "# acquire all csv path\n",
    "csv_files = glob.glob('D:/mentor/return_file/*.csv')\n",
    "\n",
    "stock_returns = pd.DataFrame()\n",
    "\n",
    "# iterate reading and concating\n",
    "for file in csv_files:\n",
    "    stock_return = pd.read_csv(file)\n",
    "    stock_returns = pd.concat([stock_returns, stock_return])\n",
    "\n",
    "stock_returns"
   ],
   "metadata": {
    "collapsed": false,
    "pycharm": {
     "name": "#%%\n"
    }
   }
  },
  {
   "cell_type": "code",
   "execution_count": 3,
   "outputs": [],
   "source": [
    "# Load the CSV files into pandas DataFrames\n",
    "risk_free_rate = pd.read_csv('D:/mentor/risk free/TRD_Nrrate.csv')\n",
    "fama_factors = pd.read_csv('D:/mentor/three factor/STK_MKT_THRFACDAY.csv')\n",
    "\n",
    "# Convert daily risk-free rate to decimal\n",
    "risk_free_rate['Nrrdaydt'] = risk_free_rate['Nrrdaydt'] / 100\n",
    "risk_free_rate['Nrrmtdt'] = risk_free_rate['Nrrmtdt'] / 100\n",
    "\n",
    "risk_free_rate.rename(columns={'Clsdt': 'date'}, inplace=True)"
   ],
   "metadata": {
    "collapsed": false,
    "pycharm": {
     "name": "#%%\n"
    }
   }
  },
  {
   "cell_type": "code",
   "execution_count": 18,
   "outputs": [],
   "source": [
    "risk_free_rate['date'] = pd.to_datetime(risk_free_rate['date'])\n",
    "risk_free_rate['month'] = risk_free_rate['date'].dt.to_period('M')"
   ],
   "metadata": {
    "collapsed": false,
    "pycharm": {
     "name": "#%%\n"
    }
   }
  },
  {
   "cell_type": "code",
   "execution_count": 8,
   "outputs": [],
   "source": [
    "def data_preprocess(stock_returns: pd.DataFrame, fama_factors: pd.DataFrame):\n",
    "    # Remove rows with marketType equal to 2 or 8\n",
    "    stock_returns = stock_returns[~stock_returns['Markettype'].isin([2, 8])]\n",
    "\n",
    "    # Filter fama_factors for marketType equal to P9709\n",
    "    fama_factors = fama_factors[fama_factors['MarkettypeID'] == 'P9709']\n",
    "\n",
    "\n",
    "    if 'Trddt' in stock_returns.columns:\n",
    "        # Remove rows with Trdsta equal to 2 or 16\n",
    "        stock_returns = stock_returns[~stock_returns['Trdsta'].isin([2, 16])]\n",
    "        stock_returns.rename(columns={'Trddt': 'date'}, inplace=True)\n",
    "        fama_factors.rename(columns={'TradingDate': 'date'}, inplace=True)\n",
    "    else:\n",
    "        stock_returns.rename(columns={'Trdmnt': 'month'}, inplace=True)\n",
    "        fama_factors.rename(columns={'TradingMonth': 'month'}, inplace=True)\n",
    "\n",
    "    stock_returns.rename(columns={'Stkcd': 'stock'}, inplace=True)\n",
    "\n",
    "\n",
    "    return stock_returns,fama_factors\n"
   ],
   "metadata": {
    "collapsed": false,
    "pycharm": {
     "name": "#%%\n"
    }
   }
  },
  {
   "cell_type": "code",
   "execution_count": 5,
   "outputs": [],
   "source": [
    "def merge_df(merge_on, stock_returns: pd.DataFrame, fama_factors: pd.DataFrame,risk_free_rate: pd.DataFrame):\n",
    "    # Merge the DataFrames on a common date column\n",
    "    merged_data = pd.merge(stock_returns, risk_free_rate, on = merge_on)\n",
    "    merged_data = pd.merge(merged_data, fama_factors, on = merge_on)\n",
    "    return merged_data"
   ],
   "metadata": {
    "collapsed": false,
    "pycharm": {
     "name": "#%%\n"
    }
   }
  },
  {
   "cell_type": "code",
   "execution_count": 101,
   "outputs": [],
   "source": [
    "from functools import partial\n",
    "\n",
    "def reg(data: pd.DataFrame, col_y: list, col_x: list):\n",
    "    if len(col_y) == 2:\n",
    "        y = data[col_y[0]] - data[col_y[1]]\n",
    "    else:\n",
    "        y = data[col_y]\n",
    "    X = sm.add_constant(data[col_x])\n",
    "    lm = sm.OLS(y, X)\n",
    "    result = lm.fit()\n",
    "\n",
    "    return result\n",
    "\n",
    "def reg_res(data: pd.DataFrame, col_y: list, col_x: list):\n",
    "    # Perform regression and calculate residuals\n",
    "\n",
    "    res = reg(data,col_y,col_x).resid\n",
    "\n",
    "    # Return standard deviation of residuals\n",
    "    return res.std()\n",
    "\n",
    "def reg_const(data: pd.DataFrame, col_y: list, col_x: list):\n",
    "\n",
    " return reg(data,col_y,col_x).params['const']\n"
   ],
   "metadata": {
    "collapsed": false,
    "pycharm": {
     "name": "#%%\n"
    }
   }
  },
  {
   "cell_type": "code",
   "execution_count": 12,
   "outputs": [
    {
     "name": "stderr",
     "output_type": "stream",
     "text": [
      "E:\\python\\lib\\site-packages\\pandas\\core\\frame.py:5047: SettingWithCopyWarning: \n",
      "A value is trying to be set on a copy of a slice from a DataFrame\n",
      "\n",
      "See the caveats in the documentation: https://pandas.pydata.org/pandas-docs/stable/user_guide/indexing.html#returning-a-view-versus-a-copy\n",
      "  errors=errors,\n"
     ]
    }
   ],
   "source": [
    "# read monthly return file\n",
    "return_M = pd.read_csv('D:/mentor/return_file/month/TRD_Mnth.csv')\n",
    "fama_factors_M = pd.read_csv('D:/mentor/three factor/STK_MKT_THRFACMONTH.csv')\n",
    "\n",
    "\n",
    "return_M, fama_factors_M = data_preprocess(return_M,fama_factors_M)\n"
   ],
   "metadata": {
    "collapsed": false,
    "pycharm": {
     "name": "#%%\n"
    }
   }
  },
  {
   "cell_type": "code",
   "execution_count": 13,
   "outputs": [
    {
     "data": {
      "text/plain": "     MarkettypeID    month  RiskPremium1      SMB1      HML1\n3           P9709  2002-01     -0.105090 -0.032669  0.019441\n15          P9709  2002-02      0.026290  0.010387 -0.026765\n27          P9709  2002-03      0.060025  0.027245 -0.007949\n39          P9709  2002-04      0.041014  0.022340  0.018600\n51          P9709  2002-05     -0.086833 -0.001085 -0.014776\n...           ...      ...           ...       ...       ...\n1562        P9709  2012-08     -0.025539  0.076941 -0.010138\n1575        P9709  2012-09      0.018826 -0.022135 -0.020717\n1588        P9709  2012-10     -0.009209  0.016114  0.007724\n1601        P9709  2012-11     -0.053451 -0.062710  0.049620\n1614        P9709  2012-12      0.145256  0.011473  0.020950\n\n[132 rows x 5 columns]",
      "text/html": "<div>\n<style scoped>\n    .dataframe tbody tr th:only-of-type {\n        vertical-align: middle;\n    }\n\n    .dataframe tbody tr th {\n        vertical-align: top;\n    }\n\n    .dataframe thead th {\n        text-align: right;\n    }\n</style>\n<table border=\"1\" class=\"dataframe\">\n  <thead>\n    <tr style=\"text-align: right;\">\n      <th></th>\n      <th>MarkettypeID</th>\n      <th>month</th>\n      <th>RiskPremium1</th>\n      <th>SMB1</th>\n      <th>HML1</th>\n    </tr>\n  </thead>\n  <tbody>\n    <tr>\n      <th>3</th>\n      <td>P9709</td>\n      <td>2002-01</td>\n      <td>-0.105090</td>\n      <td>-0.032669</td>\n      <td>0.019441</td>\n    </tr>\n    <tr>\n      <th>15</th>\n      <td>P9709</td>\n      <td>2002-02</td>\n      <td>0.026290</td>\n      <td>0.010387</td>\n      <td>-0.026765</td>\n    </tr>\n    <tr>\n      <th>27</th>\n      <td>P9709</td>\n      <td>2002-03</td>\n      <td>0.060025</td>\n      <td>0.027245</td>\n      <td>-0.007949</td>\n    </tr>\n    <tr>\n      <th>39</th>\n      <td>P9709</td>\n      <td>2002-04</td>\n      <td>0.041014</td>\n      <td>0.022340</td>\n      <td>0.018600</td>\n    </tr>\n    <tr>\n      <th>51</th>\n      <td>P9709</td>\n      <td>2002-05</td>\n      <td>-0.086833</td>\n      <td>-0.001085</td>\n      <td>-0.014776</td>\n    </tr>\n    <tr>\n      <th>...</th>\n      <td>...</td>\n      <td>...</td>\n      <td>...</td>\n      <td>...</td>\n      <td>...</td>\n    </tr>\n    <tr>\n      <th>1562</th>\n      <td>P9709</td>\n      <td>2012-08</td>\n      <td>-0.025539</td>\n      <td>0.076941</td>\n      <td>-0.010138</td>\n    </tr>\n    <tr>\n      <th>1575</th>\n      <td>P9709</td>\n      <td>2012-09</td>\n      <td>0.018826</td>\n      <td>-0.022135</td>\n      <td>-0.020717</td>\n    </tr>\n    <tr>\n      <th>1588</th>\n      <td>P9709</td>\n      <td>2012-10</td>\n      <td>-0.009209</td>\n      <td>0.016114</td>\n      <td>0.007724</td>\n    </tr>\n    <tr>\n      <th>1601</th>\n      <td>P9709</td>\n      <td>2012-11</td>\n      <td>-0.053451</td>\n      <td>-0.062710</td>\n      <td>0.049620</td>\n    </tr>\n    <tr>\n      <th>1614</th>\n      <td>P9709</td>\n      <td>2012-12</td>\n      <td>0.145256</td>\n      <td>0.011473</td>\n      <td>0.020950</td>\n    </tr>\n  </tbody>\n</table>\n<p>132 rows × 5 columns</p>\n</div>"
     },
     "execution_count": 13,
     "metadata": {},
     "output_type": "execute_result"
    }
   ],
   "source": [
    "fama_factors_M"
   ],
   "metadata": {
    "collapsed": false,
    "pycharm": {
     "name": "#%%\n"
    }
   }
  },
  {
   "cell_type": "code",
   "execution_count": 15,
   "outputs": [
    {
     "data": {
      "text/plain": "         stock    month      Msmvosd    Mretwd  Markettype\n0            1  2002-01  14840581.49 -0.140408           4\n1            1  2002-02  14305023.94 -0.036087           4\n2            1  2002-03  15545262.47  0.086700           4\n3            1  2002-04  16207662.60  0.042611           4\n4            1  2002-05  15728479.53 -0.029565           4\n...        ...      ...          ...       ...         ...\n213532  603766  2012-11    537600.00 -0.091892           1\n213533  603766  2012-12    696000.00  0.294643           1\n213534  603993  2012-10   1596000.00       NaN           1\n213535  603993  2012-11   1312000.00 -0.177945           1\n213536  603993  2012-12   1666000.00  0.283669           1\n\n[206417 rows x 5 columns]",
      "text/html": "<div>\n<style scoped>\n    .dataframe tbody tr th:only-of-type {\n        vertical-align: middle;\n    }\n\n    .dataframe tbody tr th {\n        vertical-align: top;\n    }\n\n    .dataframe thead th {\n        text-align: right;\n    }\n</style>\n<table border=\"1\" class=\"dataframe\">\n  <thead>\n    <tr style=\"text-align: right;\">\n      <th></th>\n      <th>stock</th>\n      <th>month</th>\n      <th>Msmvosd</th>\n      <th>Mretwd</th>\n      <th>Markettype</th>\n    </tr>\n  </thead>\n  <tbody>\n    <tr>\n      <th>0</th>\n      <td>1</td>\n      <td>2002-01</td>\n      <td>14840581.49</td>\n      <td>-0.140408</td>\n      <td>4</td>\n    </tr>\n    <tr>\n      <th>1</th>\n      <td>1</td>\n      <td>2002-02</td>\n      <td>14305023.94</td>\n      <td>-0.036087</td>\n      <td>4</td>\n    </tr>\n    <tr>\n      <th>2</th>\n      <td>1</td>\n      <td>2002-03</td>\n      <td>15545262.47</td>\n      <td>0.086700</td>\n      <td>4</td>\n    </tr>\n    <tr>\n      <th>3</th>\n      <td>1</td>\n      <td>2002-04</td>\n      <td>16207662.60</td>\n      <td>0.042611</td>\n      <td>4</td>\n    </tr>\n    <tr>\n      <th>4</th>\n      <td>1</td>\n      <td>2002-05</td>\n      <td>15728479.53</td>\n      <td>-0.029565</td>\n      <td>4</td>\n    </tr>\n    <tr>\n      <th>...</th>\n      <td>...</td>\n      <td>...</td>\n      <td>...</td>\n      <td>...</td>\n      <td>...</td>\n    </tr>\n    <tr>\n      <th>213532</th>\n      <td>603766</td>\n      <td>2012-11</td>\n      <td>537600.00</td>\n      <td>-0.091892</td>\n      <td>1</td>\n    </tr>\n    <tr>\n      <th>213533</th>\n      <td>603766</td>\n      <td>2012-12</td>\n      <td>696000.00</td>\n      <td>0.294643</td>\n      <td>1</td>\n    </tr>\n    <tr>\n      <th>213534</th>\n      <td>603993</td>\n      <td>2012-10</td>\n      <td>1596000.00</td>\n      <td>NaN</td>\n      <td>1</td>\n    </tr>\n    <tr>\n      <th>213535</th>\n      <td>603993</td>\n      <td>2012-11</td>\n      <td>1312000.00</td>\n      <td>-0.177945</td>\n      <td>1</td>\n    </tr>\n    <tr>\n      <th>213536</th>\n      <td>603993</td>\n      <td>2012-12</td>\n      <td>1666000.00</td>\n      <td>0.283669</td>\n      <td>1</td>\n    </tr>\n  </tbody>\n</table>\n<p>206417 rows × 5 columns</p>\n</div>"
     },
     "execution_count": 15,
     "metadata": {},
     "output_type": "execute_result"
    }
   ],
   "source": [
    "return_M"
   ],
   "metadata": {
    "collapsed": false,
    "pycharm": {
     "name": "#%%\n"
    }
   }
  },
  {
   "cell_type": "code",
   "execution_count": 30,
   "outputs": [
    {
     "data": {
      "text/plain": "       Nrr1       date  Nrrdata  Nrrdaydt  Nrrwkdt   Nrrmtdt    month\n0     NRI01 2002-01-01     2.25  0.000061   0.0428  0.001856  2002-01\n1     NRI01 2002-01-02     2.25  0.000061   0.0428  0.001856  2002-01\n2     NRI01 2002-01-03     2.25  0.000061   0.0428  0.001856  2002-01\n3     NRI01 2002-01-04     2.25  0.000061   0.0428  0.001856  2002-01\n4     NRI01 2002-01-05     2.25  0.000061   0.0428  0.001856  2002-01\n...     ...        ...      ...       ...      ...       ...      ...\n4013  NRI01 2012-12-27     3.00  0.000081   0.0569  0.002466  2012-12\n4014  NRI01 2012-12-28     3.00  0.000081   0.0569  0.002466  2012-12\n4015  NRI01 2012-12-29     3.00  0.000081   0.0569  0.002466  2012-12\n4016  NRI01 2012-12-30     3.00  0.000081   0.0569  0.002466  2012-12\n4017  NRI01 2012-12-31     3.00  0.000081   0.0569  0.002466  2012-12\n\n[4018 rows x 7 columns]",
      "text/html": "<div>\n<style scoped>\n    .dataframe tbody tr th:only-of-type {\n        vertical-align: middle;\n    }\n\n    .dataframe tbody tr th {\n        vertical-align: top;\n    }\n\n    .dataframe thead th {\n        text-align: right;\n    }\n</style>\n<table border=\"1\" class=\"dataframe\">\n  <thead>\n    <tr style=\"text-align: right;\">\n      <th></th>\n      <th>Nrr1</th>\n      <th>date</th>\n      <th>Nrrdata</th>\n      <th>Nrrdaydt</th>\n      <th>Nrrwkdt</th>\n      <th>Nrrmtdt</th>\n      <th>month</th>\n    </tr>\n  </thead>\n  <tbody>\n    <tr>\n      <th>0</th>\n      <td>NRI01</td>\n      <td>2002-01-01</td>\n      <td>2.25</td>\n      <td>0.000061</td>\n      <td>0.0428</td>\n      <td>0.001856</td>\n      <td>2002-01</td>\n    </tr>\n    <tr>\n      <th>1</th>\n      <td>NRI01</td>\n      <td>2002-01-02</td>\n      <td>2.25</td>\n      <td>0.000061</td>\n      <td>0.0428</td>\n      <td>0.001856</td>\n      <td>2002-01</td>\n    </tr>\n    <tr>\n      <th>2</th>\n      <td>NRI01</td>\n      <td>2002-01-03</td>\n      <td>2.25</td>\n      <td>0.000061</td>\n      <td>0.0428</td>\n      <td>0.001856</td>\n      <td>2002-01</td>\n    </tr>\n    <tr>\n      <th>3</th>\n      <td>NRI01</td>\n      <td>2002-01-04</td>\n      <td>2.25</td>\n      <td>0.000061</td>\n      <td>0.0428</td>\n      <td>0.001856</td>\n      <td>2002-01</td>\n    </tr>\n    <tr>\n      <th>4</th>\n      <td>NRI01</td>\n      <td>2002-01-05</td>\n      <td>2.25</td>\n      <td>0.000061</td>\n      <td>0.0428</td>\n      <td>0.001856</td>\n      <td>2002-01</td>\n    </tr>\n    <tr>\n      <th>...</th>\n      <td>...</td>\n      <td>...</td>\n      <td>...</td>\n      <td>...</td>\n      <td>...</td>\n      <td>...</td>\n      <td>...</td>\n    </tr>\n    <tr>\n      <th>4013</th>\n      <td>NRI01</td>\n      <td>2012-12-27</td>\n      <td>3.00</td>\n      <td>0.000081</td>\n      <td>0.0569</td>\n      <td>0.002466</td>\n      <td>2012-12</td>\n    </tr>\n    <tr>\n      <th>4014</th>\n      <td>NRI01</td>\n      <td>2012-12-28</td>\n      <td>3.00</td>\n      <td>0.000081</td>\n      <td>0.0569</td>\n      <td>0.002466</td>\n      <td>2012-12</td>\n    </tr>\n    <tr>\n      <th>4015</th>\n      <td>NRI01</td>\n      <td>2012-12-29</td>\n      <td>3.00</td>\n      <td>0.000081</td>\n      <td>0.0569</td>\n      <td>0.002466</td>\n      <td>2012-12</td>\n    </tr>\n    <tr>\n      <th>4016</th>\n      <td>NRI01</td>\n      <td>2012-12-30</td>\n      <td>3.00</td>\n      <td>0.000081</td>\n      <td>0.0569</td>\n      <td>0.002466</td>\n      <td>2012-12</td>\n    </tr>\n    <tr>\n      <th>4017</th>\n      <td>NRI01</td>\n      <td>2012-12-31</td>\n      <td>3.00</td>\n      <td>0.000081</td>\n      <td>0.0569</td>\n      <td>0.002466</td>\n      <td>2012-12</td>\n    </tr>\n  </tbody>\n</table>\n<p>4018 rows × 7 columns</p>\n</div>"
     },
     "execution_count": 30,
     "metadata": {},
     "output_type": "execute_result"
    }
   ],
   "source": [
    "risk_free_rate"
   ],
   "metadata": {
    "collapsed": false,
    "pycharm": {
     "name": "#%%\n"
    }
   }
  },
  {
   "cell_type": "code",
   "execution_count": 25,
   "outputs": [
    {
     "data": {
      "text/plain": "          Nrrdata  Nrrdaydt   Nrrwkdt   Nrrmtdt\nmonth                                          \n2002-01  2.250000  0.000061  0.042800  0.001856\n2002-02  2.172857  0.000059  0.041343  0.001793\n2002-03  1.980000  0.000054  0.037700  0.001635\n2002-04  1.980000  0.000054  0.037700  0.001635\n2002-05  1.980000  0.000054  0.037700  0.001635\n...           ...       ...       ...       ...\n2012-08  3.000000  0.000081  0.056900  0.002466\n2012-09  3.000000  0.000081  0.056900  0.002466\n2012-10  3.000000  0.000081  0.056900  0.002466\n2012-11  3.000000  0.000081  0.056900  0.002466\n2012-12  3.000000  0.000081  0.056900  0.002466\n\n[132 rows x 4 columns]",
      "text/html": "<div>\n<style scoped>\n    .dataframe tbody tr th:only-of-type {\n        vertical-align: middle;\n    }\n\n    .dataframe tbody tr th {\n        vertical-align: top;\n    }\n\n    .dataframe thead th {\n        text-align: right;\n    }\n</style>\n<table border=\"1\" class=\"dataframe\">\n  <thead>\n    <tr style=\"text-align: right;\">\n      <th></th>\n      <th>Nrrdata</th>\n      <th>Nrrdaydt</th>\n      <th>Nrrwkdt</th>\n      <th>Nrrmtdt</th>\n    </tr>\n    <tr>\n      <th>month</th>\n      <th></th>\n      <th></th>\n      <th></th>\n      <th></th>\n    </tr>\n  </thead>\n  <tbody>\n    <tr>\n      <th>2002-01</th>\n      <td>2.250000</td>\n      <td>0.000061</td>\n      <td>0.042800</td>\n      <td>0.001856</td>\n    </tr>\n    <tr>\n      <th>2002-02</th>\n      <td>2.172857</td>\n      <td>0.000059</td>\n      <td>0.041343</td>\n      <td>0.001793</td>\n    </tr>\n    <tr>\n      <th>2002-03</th>\n      <td>1.980000</td>\n      <td>0.000054</td>\n      <td>0.037700</td>\n      <td>0.001635</td>\n    </tr>\n    <tr>\n      <th>2002-04</th>\n      <td>1.980000</td>\n      <td>0.000054</td>\n      <td>0.037700</td>\n      <td>0.001635</td>\n    </tr>\n    <tr>\n      <th>2002-05</th>\n      <td>1.980000</td>\n      <td>0.000054</td>\n      <td>0.037700</td>\n      <td>0.001635</td>\n    </tr>\n    <tr>\n      <th>...</th>\n      <td>...</td>\n      <td>...</td>\n      <td>...</td>\n      <td>...</td>\n    </tr>\n    <tr>\n      <th>2012-08</th>\n      <td>3.000000</td>\n      <td>0.000081</td>\n      <td>0.056900</td>\n      <td>0.002466</td>\n    </tr>\n    <tr>\n      <th>2012-09</th>\n      <td>3.000000</td>\n      <td>0.000081</td>\n      <td>0.056900</td>\n      <td>0.002466</td>\n    </tr>\n    <tr>\n      <th>2012-10</th>\n      <td>3.000000</td>\n      <td>0.000081</td>\n      <td>0.056900</td>\n      <td>0.002466</td>\n    </tr>\n    <tr>\n      <th>2012-11</th>\n      <td>3.000000</td>\n      <td>0.000081</td>\n      <td>0.056900</td>\n      <td>0.002466</td>\n    </tr>\n    <tr>\n      <th>2012-12</th>\n      <td>3.000000</td>\n      <td>0.000081</td>\n      <td>0.056900</td>\n      <td>0.002466</td>\n    </tr>\n  </tbody>\n</table>\n<p>132 rows × 4 columns</p>\n</div>"
     },
     "execution_count": 25,
     "metadata": {},
     "output_type": "execute_result"
    }
   ],
   "source": [
    "risk_free_rate.groupby('month').mean()"
   ],
   "metadata": {
    "collapsed": false,
    "pycharm": {
     "name": "#%%\n"
    }
   }
  },
  {
   "cell_type": "code",
   "execution_count": 64,
   "outputs": [],
   "source": [
    "# data_ = merge_df('month',return_M, fama_factors_M,risk_free_rate)\n",
    "data_ = pd.merge(return_M, fama_factors_M, on = 'month')\n"
   ],
   "metadata": {
    "collapsed": false,
    "pycharm": {
     "name": "#%%\n"
    }
   }
  },
  {
   "cell_type": "code",
   "execution_count": 65,
   "outputs": [],
   "source": [
    "data_['month'] = pd.to_datetime(data_['month']).dt.to_period('M')"
   ],
   "metadata": {
    "collapsed": false,
    "pycharm": {
     "name": "#%%\n"
    }
   }
  },
  {
   "cell_type": "code",
   "execution_count": 66,
   "outputs": [],
   "source": [
    "data_ = pd.merge(data_, risk_free_rate[['month','Nrrmtdt']], on = 'month')"
   ],
   "metadata": {
    "collapsed": false,
    "pycharm": {
     "name": "#%%\n"
    }
   }
  },
  {
   "cell_type": "code",
   "execution_count": 67,
   "outputs": [],
   "source": [
    "data_ .set_index(['stock','month'],inplace = True)"
   ],
   "metadata": {
    "collapsed": false,
    "pycharm": {
     "name": "#%%\n"
    }
   }
  },
  {
   "cell_type": "code",
   "execution_count": 71,
   "outputs": [],
   "source": [
    "data_ = data_.drop_duplicates()"
   ],
   "metadata": {
    "collapsed": false,
    "pycharm": {
     "name": "#%%\n"
    }
   }
  },
  {
   "cell_type": "code",
   "execution_count": 72,
   "outputs": [
    {
     "data": {
      "text/plain": "                     Msmvosd    Mretwd  Markettype MarkettypeID  RiskPremium1  \\\nstock  month                                                                    \n1      2002-01  1.484058e+07 -0.140408           4        P9709     -0.105090   \n2      2002-01  4.936053e+06 -0.072659           4        P9709     -0.105090   \n3      2002-01  3.627303e+05 -0.475000           4        P9709     -0.105090   \n4      2002-01  8.697980e+05 -0.052202           4        P9709     -0.105090   \n5      2002-01  1.551891e+06 -0.197292           4        P9709     -0.105090   \n...                      ...       ...         ...          ...           ...   \n601988 2010-08  5.921370e+08 -0.069832           1        P9709      0.013317   \n601989 2010-08  1.785525e+07  0.207827           1        P9709      0.013317   \n601991 2010-08  5.840408e+07 -0.037657           1        P9709      0.013317   \n601998 2010-08  1.487317e+08 -0.060100           1        P9709      0.013317   \n601999 2010-08  1.813000e+06  0.035503           1        P9709      0.013317   \n\n                    SMB1      HML1   Nrrmtdt  \nstock  month                                  \n1      2002-01 -0.032669  0.019441  0.001856  \n2      2002-01 -0.032669  0.019441  0.001856  \n3      2002-01 -0.032669  0.019441  0.001856  \n4      2002-01 -0.032669  0.019441  0.001856  \n5      2002-01 -0.032669  0.019441  0.001856  \n...                  ...       ...       ...  \n601988 2010-08  0.087314 -0.075616  0.001856  \n601989 2010-08  0.087314 -0.075616  0.001856  \n601991 2010-08  0.087314 -0.075616  0.001856  \n601998 2010-08  0.087314 -0.075616  0.001856  \n601999 2010-08  0.087314 -0.075616  0.001856  \n\n[239681 rows x 8 columns]",
      "text/html": "<div>\n<style scoped>\n    .dataframe tbody tr th:only-of-type {\n        vertical-align: middle;\n    }\n\n    .dataframe tbody tr th {\n        vertical-align: top;\n    }\n\n    .dataframe thead th {\n        text-align: right;\n    }\n</style>\n<table border=\"1\" class=\"dataframe\">\n  <thead>\n    <tr style=\"text-align: right;\">\n      <th></th>\n      <th></th>\n      <th>Msmvosd</th>\n      <th>Mretwd</th>\n      <th>Markettype</th>\n      <th>MarkettypeID</th>\n      <th>RiskPremium1</th>\n      <th>SMB1</th>\n      <th>HML1</th>\n      <th>Nrrmtdt</th>\n    </tr>\n    <tr>\n      <th>stock</th>\n      <th>month</th>\n      <th></th>\n      <th></th>\n      <th></th>\n      <th></th>\n      <th></th>\n      <th></th>\n      <th></th>\n      <th></th>\n    </tr>\n  </thead>\n  <tbody>\n    <tr>\n      <th>1</th>\n      <th>2002-01</th>\n      <td>1.484058e+07</td>\n      <td>-0.140408</td>\n      <td>4</td>\n      <td>P9709</td>\n      <td>-0.105090</td>\n      <td>-0.032669</td>\n      <td>0.019441</td>\n      <td>0.001856</td>\n    </tr>\n    <tr>\n      <th>2</th>\n      <th>2002-01</th>\n      <td>4.936053e+06</td>\n      <td>-0.072659</td>\n      <td>4</td>\n      <td>P9709</td>\n      <td>-0.105090</td>\n      <td>-0.032669</td>\n      <td>0.019441</td>\n      <td>0.001856</td>\n    </tr>\n    <tr>\n      <th>3</th>\n      <th>2002-01</th>\n      <td>3.627303e+05</td>\n      <td>-0.475000</td>\n      <td>4</td>\n      <td>P9709</td>\n      <td>-0.105090</td>\n      <td>-0.032669</td>\n      <td>0.019441</td>\n      <td>0.001856</td>\n    </tr>\n    <tr>\n      <th>4</th>\n      <th>2002-01</th>\n      <td>8.697980e+05</td>\n      <td>-0.052202</td>\n      <td>4</td>\n      <td>P9709</td>\n      <td>-0.105090</td>\n      <td>-0.032669</td>\n      <td>0.019441</td>\n      <td>0.001856</td>\n    </tr>\n    <tr>\n      <th>5</th>\n      <th>2002-01</th>\n      <td>1.551891e+06</td>\n      <td>-0.197292</td>\n      <td>4</td>\n      <td>P9709</td>\n      <td>-0.105090</td>\n      <td>-0.032669</td>\n      <td>0.019441</td>\n      <td>0.001856</td>\n    </tr>\n    <tr>\n      <th>...</th>\n      <th>...</th>\n      <td>...</td>\n      <td>...</td>\n      <td>...</td>\n      <td>...</td>\n      <td>...</td>\n      <td>...</td>\n      <td>...</td>\n      <td>...</td>\n    </tr>\n    <tr>\n      <th>601988</th>\n      <th>2010-08</th>\n      <td>5.921370e+08</td>\n      <td>-0.069832</td>\n      <td>1</td>\n      <td>P9709</td>\n      <td>0.013317</td>\n      <td>0.087314</td>\n      <td>-0.075616</td>\n      <td>0.001856</td>\n    </tr>\n    <tr>\n      <th>601989</th>\n      <th>2010-08</th>\n      <td>1.785525e+07</td>\n      <td>0.207827</td>\n      <td>1</td>\n      <td>P9709</td>\n      <td>0.013317</td>\n      <td>0.087314</td>\n      <td>-0.075616</td>\n      <td>0.001856</td>\n    </tr>\n    <tr>\n      <th>601991</th>\n      <th>2010-08</th>\n      <td>5.840408e+07</td>\n      <td>-0.037657</td>\n      <td>1</td>\n      <td>P9709</td>\n      <td>0.013317</td>\n      <td>0.087314</td>\n      <td>-0.075616</td>\n      <td>0.001856</td>\n    </tr>\n    <tr>\n      <th>601998</th>\n      <th>2010-08</th>\n      <td>1.487317e+08</td>\n      <td>-0.060100</td>\n      <td>1</td>\n      <td>P9709</td>\n      <td>0.013317</td>\n      <td>0.087314</td>\n      <td>-0.075616</td>\n      <td>0.001856</td>\n    </tr>\n    <tr>\n      <th>601999</th>\n      <th>2010-08</th>\n      <td>1.813000e+06</td>\n      <td>0.035503</td>\n      <td>1</td>\n      <td>P9709</td>\n      <td>0.013317</td>\n      <td>0.087314</td>\n      <td>-0.075616</td>\n      <td>0.001856</td>\n    </tr>\n  </tbody>\n</table>\n<p>239681 rows × 8 columns</p>\n</div>"
     },
     "execution_count": 72,
     "metadata": {},
     "output_type": "execute_result"
    }
   ],
   "source": [
    "data_"
   ],
   "metadata": {
    "collapsed": false,
    "pycharm": {
     "name": "#%%\n"
    }
   }
  },
  {
   "cell_type": "code",
   "execution_count": 48,
   "outputs": [],
   "source": [
    "# stock_returns,fama_factors  = data_preprocess(stock_returns,fama_factors)\n",
    "stock_returns['date'] = pd.to_datetime(stock_returns['date'])\n",
    "fama_factors['date'] = pd.to_datetime(fama_factors['date'])\n",
    "merged_data = merge_df('date',stock_returns,fama_factors,risk_free_rate)"
   ],
   "metadata": {
    "collapsed": false,
    "pycharm": {
     "name": "#%%\n"
    }
   }
  },
  {
   "cell_type": "code",
   "execution_count": 49,
   "outputs": [
    {
     "data": {
      "text/plain": "stock   month  \n1       2002-01    0.009048\n        2002-02    0.011071\n        2002-03    0.013884\n        2002-04    0.015339\n        2002-05    0.011621\n                     ...   \n601988  2006-09    0.006962\n        2006-10    0.007544\n        2006-11    0.015700\n        2006-12    0.025434\n601991  2006-12    0.211663\nLength: 119349, dtype: float64"
     },
     "execution_count": 49,
     "metadata": {},
     "output_type": "execute_result"
    }
   ],
   "source": [
    "# Group data by 'order_book_id' and 'month', and apply regression function to multiple columns\n",
    "col_y = ['Dretwd','Nrrdaydt']\n",
    "col_x = ['RiskPremium1', 'SMB1', 'HML1']\n",
    "\n",
    "IVOL = merged_data.groupby(['stock','month']).apply(partial(reg_res, col_y=col_y, col_x=col_x))\n",
    "IVOL"
   ],
   "metadata": {
    "collapsed": false,
    "pycharm": {
     "name": "#%%\n"
    }
   }
  },
  {
   "cell_type": "code",
   "execution_count": 73,
   "outputs": [
    {
     "data": {
      "text/plain": "                     Msmvosd    Mretwd  Markettype MarkettypeID  RiskPremium1  \\\nstock  month                                                                    \n1      2002-01  1.484058e+07 -0.140408           4        P9709     -0.105090   \n2      2002-01  4.936053e+06 -0.072659           4        P9709     -0.105090   \n3      2002-01  3.627303e+05 -0.475000           4        P9709     -0.105090   \n4      2002-01  8.697980e+05 -0.052202           4        P9709     -0.105090   \n5      2002-01  1.551891e+06 -0.197292           4        P9709     -0.105090   \n...                      ...       ...         ...          ...           ...   \n601988 2010-08  5.921370e+08 -0.069832           1        P9709      0.013317   \n601989 2010-08  1.785525e+07  0.207827           1        P9709      0.013317   \n601991 2010-08  5.840408e+07 -0.037657           1        P9709      0.013317   \n601998 2010-08  1.487317e+08 -0.060100           1        P9709      0.013317   \n601999 2010-08  1.813000e+06  0.035503           1        P9709      0.013317   \n\n                    SMB1      HML1   Nrrmtdt      IVOL  \nstock  month                                            \n1      2002-01 -0.032669  0.019441  0.001856  0.009048  \n2      2002-01 -0.032669  0.019441  0.001856  0.007335  \n3      2002-01 -0.032669  0.019441  0.001856       NaN  \n4      2002-01 -0.032669  0.019441  0.001856  0.020072  \n5      2002-01 -0.032669  0.019441  0.001856  0.024494  \n...                  ...       ...       ...       ...  \n601988 2010-08  0.087314 -0.075616  0.001856       NaN  \n601989 2010-08  0.087314 -0.075616  0.001856       NaN  \n601991 2010-08  0.087314 -0.075616  0.001856       NaN  \n601998 2010-08  0.087314 -0.075616  0.001856       NaN  \n601999 2010-08  0.087314 -0.075616  0.001856       NaN  \n\n[239681 rows x 9 columns]",
      "text/html": "<div>\n<style scoped>\n    .dataframe tbody tr th:only-of-type {\n        vertical-align: middle;\n    }\n\n    .dataframe tbody tr th {\n        vertical-align: top;\n    }\n\n    .dataframe thead th {\n        text-align: right;\n    }\n</style>\n<table border=\"1\" class=\"dataframe\">\n  <thead>\n    <tr style=\"text-align: right;\">\n      <th></th>\n      <th></th>\n      <th>Msmvosd</th>\n      <th>Mretwd</th>\n      <th>Markettype</th>\n      <th>MarkettypeID</th>\n      <th>RiskPremium1</th>\n      <th>SMB1</th>\n      <th>HML1</th>\n      <th>Nrrmtdt</th>\n      <th>IVOL</th>\n    </tr>\n    <tr>\n      <th>stock</th>\n      <th>month</th>\n      <th></th>\n      <th></th>\n      <th></th>\n      <th></th>\n      <th></th>\n      <th></th>\n      <th></th>\n      <th></th>\n      <th></th>\n    </tr>\n  </thead>\n  <tbody>\n    <tr>\n      <th>1</th>\n      <th>2002-01</th>\n      <td>1.484058e+07</td>\n      <td>-0.140408</td>\n      <td>4</td>\n      <td>P9709</td>\n      <td>-0.105090</td>\n      <td>-0.032669</td>\n      <td>0.019441</td>\n      <td>0.001856</td>\n      <td>0.009048</td>\n    </tr>\n    <tr>\n      <th>2</th>\n      <th>2002-01</th>\n      <td>4.936053e+06</td>\n      <td>-0.072659</td>\n      <td>4</td>\n      <td>P9709</td>\n      <td>-0.105090</td>\n      <td>-0.032669</td>\n      <td>0.019441</td>\n      <td>0.001856</td>\n      <td>0.007335</td>\n    </tr>\n    <tr>\n      <th>3</th>\n      <th>2002-01</th>\n      <td>3.627303e+05</td>\n      <td>-0.475000</td>\n      <td>4</td>\n      <td>P9709</td>\n      <td>-0.105090</td>\n      <td>-0.032669</td>\n      <td>0.019441</td>\n      <td>0.001856</td>\n      <td>NaN</td>\n    </tr>\n    <tr>\n      <th>4</th>\n      <th>2002-01</th>\n      <td>8.697980e+05</td>\n      <td>-0.052202</td>\n      <td>4</td>\n      <td>P9709</td>\n      <td>-0.105090</td>\n      <td>-0.032669</td>\n      <td>0.019441</td>\n      <td>0.001856</td>\n      <td>0.020072</td>\n    </tr>\n    <tr>\n      <th>5</th>\n      <th>2002-01</th>\n      <td>1.551891e+06</td>\n      <td>-0.197292</td>\n      <td>4</td>\n      <td>P9709</td>\n      <td>-0.105090</td>\n      <td>-0.032669</td>\n      <td>0.019441</td>\n      <td>0.001856</td>\n      <td>0.024494</td>\n    </tr>\n    <tr>\n      <th>...</th>\n      <th>...</th>\n      <td>...</td>\n      <td>...</td>\n      <td>...</td>\n      <td>...</td>\n      <td>...</td>\n      <td>...</td>\n      <td>...</td>\n      <td>...</td>\n      <td>...</td>\n    </tr>\n    <tr>\n      <th>601988</th>\n      <th>2010-08</th>\n      <td>5.921370e+08</td>\n      <td>-0.069832</td>\n      <td>1</td>\n      <td>P9709</td>\n      <td>0.013317</td>\n      <td>0.087314</td>\n      <td>-0.075616</td>\n      <td>0.001856</td>\n      <td>NaN</td>\n    </tr>\n    <tr>\n      <th>601989</th>\n      <th>2010-08</th>\n      <td>1.785525e+07</td>\n      <td>0.207827</td>\n      <td>1</td>\n      <td>P9709</td>\n      <td>0.013317</td>\n      <td>0.087314</td>\n      <td>-0.075616</td>\n      <td>0.001856</td>\n      <td>NaN</td>\n    </tr>\n    <tr>\n      <th>601991</th>\n      <th>2010-08</th>\n      <td>5.840408e+07</td>\n      <td>-0.037657</td>\n      <td>1</td>\n      <td>P9709</td>\n      <td>0.013317</td>\n      <td>0.087314</td>\n      <td>-0.075616</td>\n      <td>0.001856</td>\n      <td>NaN</td>\n    </tr>\n    <tr>\n      <th>601998</th>\n      <th>2010-08</th>\n      <td>1.487317e+08</td>\n      <td>-0.060100</td>\n      <td>1</td>\n      <td>P9709</td>\n      <td>0.013317</td>\n      <td>0.087314</td>\n      <td>-0.075616</td>\n      <td>0.001856</td>\n      <td>NaN</td>\n    </tr>\n    <tr>\n      <th>601999</th>\n      <th>2010-08</th>\n      <td>1.813000e+06</td>\n      <td>0.035503</td>\n      <td>1</td>\n      <td>P9709</td>\n      <td>0.013317</td>\n      <td>0.087314</td>\n      <td>-0.075616</td>\n      <td>0.001856</td>\n      <td>NaN</td>\n    </tr>\n  </tbody>\n</table>\n<p>239681 rows × 9 columns</p>\n</div>"
     },
     "execution_count": 73,
     "metadata": {},
     "output_type": "execute_result"
    }
   ],
   "source": [
    "data_['IVOL'] = IVOL\n",
    "\n",
    "data_"
   ],
   "metadata": {
    "collapsed": false,
    "pycharm": {
     "name": "#%%\n"
    }
   }
  },
  {
   "cell_type": "code",
   "execution_count": 75,
   "outputs": [
    {
     "data": {
      "text/plain": "                    Msmvosd    Mretwd  Markettype MarkettypeID  RiskPremium1  \\\nmonth   stock                                                                  \n2002-01 1       14840581.49 -0.140408           4        P9709     -0.105090   \n        2        4936053.04 -0.072659           4        P9709     -0.105090   \n        3         362730.31 -0.475000           4        P9709     -0.105090   \n        4         869797.99 -0.052202           4        P9709     -0.105090   \n        5        1551890.91 -0.197292           4        P9709     -0.105090   \n...                     ...       ...         ...          ...           ...   \n2012-12 603333    707227.20  0.233560           1        P9709      0.145256   \n        603366   1540000.00  0.252033           1        P9709      0.145256   \n        603399    786297.60  0.296761           1        P9709      0.145256   \n        603766    696000.00  0.294643           1        P9709      0.145256   \n        603993   1666000.00  0.283669           1        P9709      0.145256   \n\n                    SMB1      HML1   Nrrmtdt      IVOL  forward_1m_returns  \nmonth   stock                                                               \n2002-01 1      -0.032669  0.019441  0.001856  0.009048           -0.036087  \n        2      -0.032669  0.019441  0.001856  0.007335            0.021002  \n        3      -0.032669  0.019441  0.001856       NaN           -0.079365  \n        4      -0.032669  0.019441  0.001856  0.020072            0.067050  \n        5      -0.032669  0.019441  0.001856  0.024494            0.113253  \n...                  ...       ...       ...       ...                 ...  \n2012-12 603333  0.011473  0.020950  0.002466       NaN                 NaN  \n        603366  0.011473  0.020950  0.002466       NaN                 NaN  \n        603399  0.011473  0.020950  0.002466       NaN                 NaN  \n        603766  0.011473  0.020950  0.002466       NaN                 NaN  \n        603993  0.011473  0.020950  0.002466       NaN                 NaN  \n\n[239681 rows x 10 columns]",
      "text/html": "<div>\n<style scoped>\n    .dataframe tbody tr th:only-of-type {\n        vertical-align: middle;\n    }\n\n    .dataframe tbody tr th {\n        vertical-align: top;\n    }\n\n    .dataframe thead th {\n        text-align: right;\n    }\n</style>\n<table border=\"1\" class=\"dataframe\">\n  <thead>\n    <tr style=\"text-align: right;\">\n      <th></th>\n      <th></th>\n      <th>Msmvosd</th>\n      <th>Mretwd</th>\n      <th>Markettype</th>\n      <th>MarkettypeID</th>\n      <th>RiskPremium1</th>\n      <th>SMB1</th>\n      <th>HML1</th>\n      <th>Nrrmtdt</th>\n      <th>IVOL</th>\n      <th>forward_1m_returns</th>\n    </tr>\n    <tr>\n      <th>month</th>\n      <th>stock</th>\n      <th></th>\n      <th></th>\n      <th></th>\n      <th></th>\n      <th></th>\n      <th></th>\n      <th></th>\n      <th></th>\n      <th></th>\n      <th></th>\n    </tr>\n  </thead>\n  <tbody>\n    <tr>\n      <th rowspan=\"5\" valign=\"top\">2002-01</th>\n      <th>1</th>\n      <td>14840581.49</td>\n      <td>-0.140408</td>\n      <td>4</td>\n      <td>P9709</td>\n      <td>-0.105090</td>\n      <td>-0.032669</td>\n      <td>0.019441</td>\n      <td>0.001856</td>\n      <td>0.009048</td>\n      <td>-0.036087</td>\n    </tr>\n    <tr>\n      <th>2</th>\n      <td>4936053.04</td>\n      <td>-0.072659</td>\n      <td>4</td>\n      <td>P9709</td>\n      <td>-0.105090</td>\n      <td>-0.032669</td>\n      <td>0.019441</td>\n      <td>0.001856</td>\n      <td>0.007335</td>\n      <td>0.021002</td>\n    </tr>\n    <tr>\n      <th>3</th>\n      <td>362730.31</td>\n      <td>-0.475000</td>\n      <td>4</td>\n      <td>P9709</td>\n      <td>-0.105090</td>\n      <td>-0.032669</td>\n      <td>0.019441</td>\n      <td>0.001856</td>\n      <td>NaN</td>\n      <td>-0.079365</td>\n    </tr>\n    <tr>\n      <th>4</th>\n      <td>869797.99</td>\n      <td>-0.052202</td>\n      <td>4</td>\n      <td>P9709</td>\n      <td>-0.105090</td>\n      <td>-0.032669</td>\n      <td>0.019441</td>\n      <td>0.001856</td>\n      <td>0.020072</td>\n      <td>0.067050</td>\n    </tr>\n    <tr>\n      <th>5</th>\n      <td>1551890.91</td>\n      <td>-0.197292</td>\n      <td>4</td>\n      <td>P9709</td>\n      <td>-0.105090</td>\n      <td>-0.032669</td>\n      <td>0.019441</td>\n      <td>0.001856</td>\n      <td>0.024494</td>\n      <td>0.113253</td>\n    </tr>\n    <tr>\n      <th>...</th>\n      <th>...</th>\n      <td>...</td>\n      <td>...</td>\n      <td>...</td>\n      <td>...</td>\n      <td>...</td>\n      <td>...</td>\n      <td>...</td>\n      <td>...</td>\n      <td>...</td>\n      <td>...</td>\n    </tr>\n    <tr>\n      <th rowspan=\"5\" valign=\"top\">2012-12</th>\n      <th>603333</th>\n      <td>707227.20</td>\n      <td>0.233560</td>\n      <td>1</td>\n      <td>P9709</td>\n      <td>0.145256</td>\n      <td>0.011473</td>\n      <td>0.020950</td>\n      <td>0.002466</td>\n      <td>NaN</td>\n      <td>NaN</td>\n    </tr>\n    <tr>\n      <th>603366</th>\n      <td>1540000.00</td>\n      <td>0.252033</td>\n      <td>1</td>\n      <td>P9709</td>\n      <td>0.145256</td>\n      <td>0.011473</td>\n      <td>0.020950</td>\n      <td>0.002466</td>\n      <td>NaN</td>\n      <td>NaN</td>\n    </tr>\n    <tr>\n      <th>603399</th>\n      <td>786297.60</td>\n      <td>0.296761</td>\n      <td>1</td>\n      <td>P9709</td>\n      <td>0.145256</td>\n      <td>0.011473</td>\n      <td>0.020950</td>\n      <td>0.002466</td>\n      <td>NaN</td>\n      <td>NaN</td>\n    </tr>\n    <tr>\n      <th>603766</th>\n      <td>696000.00</td>\n      <td>0.294643</td>\n      <td>1</td>\n      <td>P9709</td>\n      <td>0.145256</td>\n      <td>0.011473</td>\n      <td>0.020950</td>\n      <td>0.002466</td>\n      <td>NaN</td>\n      <td>NaN</td>\n    </tr>\n    <tr>\n      <th>603993</th>\n      <td>1666000.00</td>\n      <td>0.283669</td>\n      <td>1</td>\n      <td>P9709</td>\n      <td>0.145256</td>\n      <td>0.011473</td>\n      <td>0.020950</td>\n      <td>0.002466</td>\n      <td>NaN</td>\n      <td>NaN</td>\n    </tr>\n  </tbody>\n</table>\n<p>239681 rows × 10 columns</p>\n</div>"
     },
     "execution_count": 75,
     "metadata": {},
     "output_type": "execute_result"
    }
   ],
   "source": [
    "data_['forward_1m_returns'] = data_.groupby('stock')['Mretwd'].shift(-1)\n",
    "data_ = data_.swaplevel('stock', 'month').sort_index(level = 0)\n",
    "data_"
   ],
   "metadata": {
    "collapsed": false,
    "pycharm": {
     "name": "#%%\n"
    }
   }
  },
  {
   "cell_type": "code",
   "execution_count": 78,
   "outputs": [],
   "source": [
    "data_ = data_.dropna()"
   ],
   "metadata": {
    "collapsed": false,
    "pycharm": {
     "name": "#%%\n"
    }
   }
  },
  {
   "cell_type": "code",
   "execution_count": 76,
   "outputs": [],
   "source": [
    "def group(x, k):\n",
    "    return(pd.qcut(x, k, labels = np.arange(1,k+1)))"
   ],
   "metadata": {
    "collapsed": false,
    "pycharm": {
     "name": "#%%\n"
    }
   }
  },
  {
   "cell_type": "code",
   "execution_count": 79,
   "outputs": [
    {
     "name": "stderr",
     "output_type": "stream",
     "text": [
      "E:\\python\\lib\\site-packages\\ipykernel_launcher.py:1: SettingWithCopyWarning: \n",
      "A value is trying to be set on a copy of a slice from a DataFrame.\n",
      "Try using .loc[row_indexer,col_indexer] = value instead\n",
      "\n",
      "See the caveats in the documentation: https://pandas.pydata.org/pandas-docs/stable/user_guide/indexing.html#returning-a-view-versus-a-copy\n",
      "  \"\"\"Entry point for launching an IPython kernel.\n"
     ]
    },
    {
     "data": {
      "text/plain": "                  Msmvosd    Mretwd  Markettype MarkettypeID  RiskPremium1  \\\nmonth   stock                                                                \n2009-05 2119    798536.35 -0.054017           4        P9709      0.051924   \n        2120    504559.93  0.001454           4        P9709      0.051924   \n        2121   1867436.51  0.334558           4        P9709      0.051924   \n        2122   3992960.00 -0.020354           4        P9709      0.051924   \n        2123   3957072.78  0.126786           4        P9709      0.051924   \n\n                   SMB1      HML1   Nrrmtdt      IVOL  forward_1m_returns  \\\nmonth   stock                                                               \n2009-05 2119   0.030207  0.003924  0.001856  0.017698           -0.067350   \n        2120   0.030207  0.003924  0.001856  0.034994           -0.010477   \n        2121   0.030207  0.003924  0.001856  0.026088           -0.100406   \n        2122   0.030207  0.003924  0.001856  0.016818           -0.036785   \n        2123   0.030207  0.003924  0.001856  0.030870           -0.076704   \n\n              group  \nmonth   stock        \n2009-05 2119      2  \n        2120      5  \n        2121      4  \n        2122      2  \n        2123      5  ",
      "text/html": "<div>\n<style scoped>\n    .dataframe tbody tr th:only-of-type {\n        vertical-align: middle;\n    }\n\n    .dataframe tbody tr th {\n        vertical-align: top;\n    }\n\n    .dataframe thead th {\n        text-align: right;\n    }\n</style>\n<table border=\"1\" class=\"dataframe\">\n  <thead>\n    <tr style=\"text-align: right;\">\n      <th></th>\n      <th></th>\n      <th>Msmvosd</th>\n      <th>Mretwd</th>\n      <th>Markettype</th>\n      <th>MarkettypeID</th>\n      <th>RiskPremium1</th>\n      <th>SMB1</th>\n      <th>HML1</th>\n      <th>Nrrmtdt</th>\n      <th>IVOL</th>\n      <th>forward_1m_returns</th>\n      <th>group</th>\n    </tr>\n    <tr>\n      <th>month</th>\n      <th>stock</th>\n      <th></th>\n      <th></th>\n      <th></th>\n      <th></th>\n      <th></th>\n      <th></th>\n      <th></th>\n      <th></th>\n      <th></th>\n      <th></th>\n      <th></th>\n    </tr>\n  </thead>\n  <tbody>\n    <tr>\n      <th rowspan=\"5\" valign=\"top\">2009-05</th>\n      <th>2119</th>\n      <td>798536.35</td>\n      <td>-0.054017</td>\n      <td>4</td>\n      <td>P9709</td>\n      <td>0.051924</td>\n      <td>0.030207</td>\n      <td>0.003924</td>\n      <td>0.001856</td>\n      <td>0.017698</td>\n      <td>-0.067350</td>\n      <td>2</td>\n    </tr>\n    <tr>\n      <th>2120</th>\n      <td>504559.93</td>\n      <td>0.001454</td>\n      <td>4</td>\n      <td>P9709</td>\n      <td>0.051924</td>\n      <td>0.030207</td>\n      <td>0.003924</td>\n      <td>0.001856</td>\n      <td>0.034994</td>\n      <td>-0.010477</td>\n      <td>5</td>\n    </tr>\n    <tr>\n      <th>2121</th>\n      <td>1867436.51</td>\n      <td>0.334558</td>\n      <td>4</td>\n      <td>P9709</td>\n      <td>0.051924</td>\n      <td>0.030207</td>\n      <td>0.003924</td>\n      <td>0.001856</td>\n      <td>0.026088</td>\n      <td>-0.100406</td>\n      <td>4</td>\n    </tr>\n    <tr>\n      <th>2122</th>\n      <td>3992960.00</td>\n      <td>-0.020354</td>\n      <td>4</td>\n      <td>P9709</td>\n      <td>0.051924</td>\n      <td>0.030207</td>\n      <td>0.003924</td>\n      <td>0.001856</td>\n      <td>0.016818</td>\n      <td>-0.036785</td>\n      <td>2</td>\n    </tr>\n    <tr>\n      <th>2123</th>\n      <td>3957072.78</td>\n      <td>0.126786</td>\n      <td>4</td>\n      <td>P9709</td>\n      <td>0.051924</td>\n      <td>0.030207</td>\n      <td>0.003924</td>\n      <td>0.001856</td>\n      <td>0.030870</td>\n      <td>-0.076704</td>\n      <td>5</td>\n    </tr>\n  </tbody>\n</table>\n</div>"
     },
     "execution_count": 79,
     "metadata": {},
     "output_type": "execute_result"
    }
   ],
   "source": [
    "data_['group'] = data_.groupby('month')['IVOL'].apply(lambda x: group(x, k = 5))\n",
    "\n",
    "data_[100000:100005]"
   ],
   "metadata": {
    "collapsed": false,
    "pycharm": {
     "name": "#%%\n"
    }
   }
  },
  {
   "cell_type": "code",
   "execution_count": 80,
   "outputs": [
    {
     "data": {
      "text/plain": "group           1         2         3         4         5\nmonth                                                    \n2002-01  0.020845  0.028753  0.030644  0.035832  0.051319\n2002-02  0.042459  0.048064  0.051668  0.058936  0.075581\n2002-03  0.054081  0.051720  0.050160  0.052190  0.038771\n2002-04 -0.090756 -0.083652 -0.091848 -0.085036 -0.091390\n2002-05  0.132366  0.132580  0.114635  0.114867  0.107421\n...           ...       ...       ...       ...       ...\n2011-08 -0.094923 -0.113426 -0.116945 -0.133765 -0.152754\n2011-09  0.031729  0.041003  0.037111  0.042796  0.048534\n2011-10 -0.028498 -0.036102 -0.029633 -0.042173 -0.058797\n2011-11 -0.139917 -0.145786 -0.146198 -0.165569 -0.178557\n2011-12  0.012827  0.002369 -0.018237 -0.023057 -0.022567\n\n[119 rows x 5 columns]",
      "text/html": "<div>\n<style scoped>\n    .dataframe tbody tr th:only-of-type {\n        vertical-align: middle;\n    }\n\n    .dataframe tbody tr th {\n        vertical-align: top;\n    }\n\n    .dataframe thead th {\n        text-align: right;\n    }\n</style>\n<table border=\"1\" class=\"dataframe\">\n  <thead>\n    <tr style=\"text-align: right;\">\n      <th>group</th>\n      <th>1</th>\n      <th>2</th>\n      <th>3</th>\n      <th>4</th>\n      <th>5</th>\n    </tr>\n    <tr>\n      <th>month</th>\n      <th></th>\n      <th></th>\n      <th></th>\n      <th></th>\n      <th></th>\n    </tr>\n  </thead>\n  <tbody>\n    <tr>\n      <th>2002-01</th>\n      <td>0.020845</td>\n      <td>0.028753</td>\n      <td>0.030644</td>\n      <td>0.035832</td>\n      <td>0.051319</td>\n    </tr>\n    <tr>\n      <th>2002-02</th>\n      <td>0.042459</td>\n      <td>0.048064</td>\n      <td>0.051668</td>\n      <td>0.058936</td>\n      <td>0.075581</td>\n    </tr>\n    <tr>\n      <th>2002-03</th>\n      <td>0.054081</td>\n      <td>0.051720</td>\n      <td>0.050160</td>\n      <td>0.052190</td>\n      <td>0.038771</td>\n    </tr>\n    <tr>\n      <th>2002-04</th>\n      <td>-0.090756</td>\n      <td>-0.083652</td>\n      <td>-0.091848</td>\n      <td>-0.085036</td>\n      <td>-0.091390</td>\n    </tr>\n    <tr>\n      <th>2002-05</th>\n      <td>0.132366</td>\n      <td>0.132580</td>\n      <td>0.114635</td>\n      <td>0.114867</td>\n      <td>0.107421</td>\n    </tr>\n    <tr>\n      <th>...</th>\n      <td>...</td>\n      <td>...</td>\n      <td>...</td>\n      <td>...</td>\n      <td>...</td>\n    </tr>\n    <tr>\n      <th>2011-08</th>\n      <td>-0.094923</td>\n      <td>-0.113426</td>\n      <td>-0.116945</td>\n      <td>-0.133765</td>\n      <td>-0.152754</td>\n    </tr>\n    <tr>\n      <th>2011-09</th>\n      <td>0.031729</td>\n      <td>0.041003</td>\n      <td>0.037111</td>\n      <td>0.042796</td>\n      <td>0.048534</td>\n    </tr>\n    <tr>\n      <th>2011-10</th>\n      <td>-0.028498</td>\n      <td>-0.036102</td>\n      <td>-0.029633</td>\n      <td>-0.042173</td>\n      <td>-0.058797</td>\n    </tr>\n    <tr>\n      <th>2011-11</th>\n      <td>-0.139917</td>\n      <td>-0.145786</td>\n      <td>-0.146198</td>\n      <td>-0.165569</td>\n      <td>-0.178557</td>\n    </tr>\n    <tr>\n      <th>2011-12</th>\n      <td>0.012827</td>\n      <td>0.002369</td>\n      <td>-0.018237</td>\n      <td>-0.023057</td>\n      <td>-0.022567</td>\n    </tr>\n  </tbody>\n</table>\n<p>119 rows × 5 columns</p>\n</div>"
     },
     "execution_count": 80,
     "metadata": {},
     "output_type": "execute_result"
    }
   ],
   "source": [
    "group_returns_ew = data_.groupby(['month', 'group'])['forward_1m_returns'].mean().unstack()\n",
    "group_returns_ew"
   ],
   "metadata": {
    "collapsed": false,
    "pycharm": {
     "name": "#%%\n"
    }
   }
  },
  {
   "cell_type": "code",
   "execution_count": 83,
   "outputs": [
    {
     "data": {
      "text/plain": "group\n1    0.020314\n2    0.016872\n3    0.016693\n4    0.015220\n5    0.012807\ndtype: float64"
     },
     "execution_count": 83,
     "metadata": {},
     "output_type": "execute_result"
    }
   ],
   "source": [
    "column_means = group_returns_ew.mean()\n",
    "column_means"
   ],
   "metadata": {
    "collapsed": false,
    "pycharm": {
     "name": "#%%\n"
    }
   }
  },
  {
   "cell_type": "code",
   "execution_count": 81,
   "outputs": [
    {
     "data": {
      "text/plain": "group           1         2         3         4         5\nmonth                                                    \n2002-01  0.012290  0.024485  0.027422  0.032267  0.043942\n2002-02  0.032346  0.042242  0.044338  0.050267  0.066866\n2002-03  0.042824  0.039480  0.040833  0.041436  0.029484\n2002-04 -0.085112 -0.082954 -0.092759 -0.078942 -0.086614\n2002-05  0.143086  0.150479  0.125581  0.136998  0.113519\n...           ...       ...       ...       ...       ...\n2011-08 -0.092118 -0.117360 -0.116470 -0.129250 -0.155277\n2011-09  0.028126  0.034676  0.025926  0.024318  0.047220\n2011-10 -0.032434 -0.060489 -0.045677 -0.058490 -0.060579\n2011-11 -0.102100 -0.117560 -0.115240 -0.144907 -0.186941\n2011-12  0.021301  0.034278 -0.009282 -0.024488 -0.006297\n\n[119 rows x 5 columns]",
      "text/html": "<div>\n<style scoped>\n    .dataframe tbody tr th:only-of-type {\n        vertical-align: middle;\n    }\n\n    .dataframe tbody tr th {\n        vertical-align: top;\n    }\n\n    .dataframe thead th {\n        text-align: right;\n    }\n</style>\n<table border=\"1\" class=\"dataframe\">\n  <thead>\n    <tr style=\"text-align: right;\">\n      <th>group</th>\n      <th>1</th>\n      <th>2</th>\n      <th>3</th>\n      <th>4</th>\n      <th>5</th>\n    </tr>\n    <tr>\n      <th>month</th>\n      <th></th>\n      <th></th>\n      <th></th>\n      <th></th>\n      <th></th>\n    </tr>\n  </thead>\n  <tbody>\n    <tr>\n      <th>2002-01</th>\n      <td>0.012290</td>\n      <td>0.024485</td>\n      <td>0.027422</td>\n      <td>0.032267</td>\n      <td>0.043942</td>\n    </tr>\n    <tr>\n      <th>2002-02</th>\n      <td>0.032346</td>\n      <td>0.042242</td>\n      <td>0.044338</td>\n      <td>0.050267</td>\n      <td>0.066866</td>\n    </tr>\n    <tr>\n      <th>2002-03</th>\n      <td>0.042824</td>\n      <td>0.039480</td>\n      <td>0.040833</td>\n      <td>0.041436</td>\n      <td>0.029484</td>\n    </tr>\n    <tr>\n      <th>2002-04</th>\n      <td>-0.085112</td>\n      <td>-0.082954</td>\n      <td>-0.092759</td>\n      <td>-0.078942</td>\n      <td>-0.086614</td>\n    </tr>\n    <tr>\n      <th>2002-05</th>\n      <td>0.143086</td>\n      <td>0.150479</td>\n      <td>0.125581</td>\n      <td>0.136998</td>\n      <td>0.113519</td>\n    </tr>\n    <tr>\n      <th>...</th>\n      <td>...</td>\n      <td>...</td>\n      <td>...</td>\n      <td>...</td>\n      <td>...</td>\n    </tr>\n    <tr>\n      <th>2011-08</th>\n      <td>-0.092118</td>\n      <td>-0.117360</td>\n      <td>-0.116470</td>\n      <td>-0.129250</td>\n      <td>-0.155277</td>\n    </tr>\n    <tr>\n      <th>2011-09</th>\n      <td>0.028126</td>\n      <td>0.034676</td>\n      <td>0.025926</td>\n      <td>0.024318</td>\n      <td>0.047220</td>\n    </tr>\n    <tr>\n      <th>2011-10</th>\n      <td>-0.032434</td>\n      <td>-0.060489</td>\n      <td>-0.045677</td>\n      <td>-0.058490</td>\n      <td>-0.060579</td>\n    </tr>\n    <tr>\n      <th>2011-11</th>\n      <td>-0.102100</td>\n      <td>-0.117560</td>\n      <td>-0.115240</td>\n      <td>-0.144907</td>\n      <td>-0.186941</td>\n    </tr>\n    <tr>\n      <th>2011-12</th>\n      <td>0.021301</td>\n      <td>0.034278</td>\n      <td>-0.009282</td>\n      <td>-0.024488</td>\n      <td>-0.006297</td>\n    </tr>\n  </tbody>\n</table>\n<p>119 rows × 5 columns</p>\n</div>"
     },
     "execution_count": 81,
     "metadata": {},
     "output_type": "execute_result"
    }
   ],
   "source": [
    "def value_weighted_avg_return(group):\n",
    "    weights = group['Msmvosd'] / group['Msmvosd'].sum()\n",
    "    return (group['forward_1m_returns'] * weights).sum()\n",
    "\n",
    "group_returns_vw = data_.groupby(['month', 'group']).apply(value_weighted_avg_return).unstack()\n",
    "group_returns_vw"
   ],
   "metadata": {
    "collapsed": false,
    "pycharm": {
     "name": "#%%\n"
    }
   }
  },
  {
   "cell_type": "code",
   "execution_count": 85,
   "outputs": [
    {
     "data": {
      "text/plain": "group\n1    0.014925\n2    0.015818\n3    0.014225\n4    0.014961\n5    0.012852\ndtype: float64"
     },
     "execution_count": 85,
     "metadata": {},
     "output_type": "execute_result"
    }
   ],
   "source": [
    "column_means_vw = group_returns_vw.mean()\n",
    "column_means_vw"
   ],
   "metadata": {
    "collapsed": false,
    "pycharm": {
     "name": "#%%\n"
    }
   }
  },
  {
   "cell_type": "code",
   "execution_count": 95,
   "outputs": [],
   "source": [
    "def group_difference_ttest(group):\n",
    "    group_5 = group[5]\n",
    "    group_1 = group[1]\n",
    "    diff = group_5.mean() - group_1.mean()\n",
    "\n",
    "    # Calculate the standard errors\n",
    "    var_5 = group_5.var()\n",
    "    var_1 = group_1.var()\n",
    "    cov = group_5.cov(group_1)\n",
    "    n_5 = len(group_5)\n",
    "    n_1 = len(group_1)\n",
    "    se = np.sqrt(var_5  + var_1 - 2 * cov)\n",
    "\n",
    "    # Calculate the t-statistic\n",
    "    t_statistic = diff / se\n",
    "\n",
    "    p_value = 2 * (1 - t.cdf(np.abs(t_statistic), df = n_5 - 2))\n",
    "    return pd.Series({'Diff': diff, 'T-Statistic': t_statistic, 'P-Value': p_value})\n"
   ],
   "metadata": {
    "collapsed": false,
    "pycharm": {
     "name": "#%%\n"
    }
   }
  },
  {
   "cell_type": "code",
   "execution_count": 96,
   "outputs": [
    {
     "data": {
      "text/plain": "Diff          -0.007507\nT-Statistic   -0.744931\nP-Value        0.457055\ndtype: float64"
     },
     "execution_count": 96,
     "metadata": {},
     "output_type": "execute_result"
    }
   ],
   "source": [
    " # = group_returns_ew.groupby('month').apply(group_difference_ttest)\n",
    "# test_data = group_returns_ew.apply(group_difference_ttest, axis=1)\n",
    "test_data = group_difference_ttest(group_returns_ew)\n",
    "test_data"
   ],
   "metadata": {
    "collapsed": false,
    "pycharm": {
     "name": "#%%\n"
    }
   }
  },
  {
   "cell_type": "code",
   "execution_count": 102,
   "outputs": [],
   "source": [
    "def reg_cons(data: pd.DataFrame, y, col_x: list):\n",
    "\n",
    "    X = sm.add_constant(data[col_x])\n",
    "    lm = sm.OLS(y, X)\n",
    "    result = lm.fit()\n",
    "\n",
    "    return result"
   ],
   "metadata": {
    "collapsed": false,
    "pycharm": {
     "name": "#%%\n"
    }
   }
  },
  {
   "cell_type": "code",
   "execution_count": 103,
   "outputs": [
    {
     "data": {
      "text/plain": "group\n1    0.012617\n2    0.011299\n3    0.011554\n4    0.010783\n5    0.011221\ndtype: float64"
     },
     "execution_count": 103,
     "metadata": {},
     "output_type": "execute_result"
    }
   ],
   "source": [
    "# col_y_M = data_['Mretwd','Nrrmtdt']\n",
    "rf = data_['Nrrmtdt']\n",
    "# 对每一列进行回归并减去\n",
    "group_returns_const = group_returns_ew.sub(rf,axis = 0).apply(lambda x:reg_cons(data_,x,col_x = col_x), axis=0).params['const']\n",
    "group_returns_const"
   ],
   "metadata": {
    "collapsed": false,
    "pycharm": {
     "name": "#%%\n"
    }
   }
  },
  {
   "cell_type": "code",
   "execution_count": 104,
   "outputs": [
    {
     "data": {
      "text/plain": "group\n1    0.008598\n2    0.011029\n3    0.011705\n4    0.012108\n5    0.012619\ndtype: float64"
     },
     "execution_count": 104,
     "metadata": {},
     "output_type": "execute_result"
    }
   ],
   "source": [
    "group_returns_const_vw = group_returns_vw.sub(rf,axis = 0).apply(lambda x:reg_cons(data_,x,col_x = col_x), axis=0).params['const']\n",
    "group_returns_const_vw"
   ],
   "metadata": {
    "collapsed": false,
    "pycharm": {
     "name": "#%%\n"
    }
   }
  },
  {
   "cell_type": "code",
   "execution_count": null,
   "outputs": [],
   "source": [
    "# Subtract group_returns_vw[5] from group_returns_vw[1]\n",
    "group_returns_diff = group_returns_vw[5] - group_returns_vw[1]\n",
    "\n",
    "# Perform regression on the subtracted returns\n",
    "t_stat = reg_cons(data_, group_returns_diff, col_x=col_x).tvalues['const']"
   ],
   "metadata": {
    "collapsed": false,
    "pycharm": {
     "name": "#%%\n"
    }
   }
  }
 ],
 "metadata": {
  "kernelspec": {
   "display_name": "Python 3",
   "language": "python",
   "name": "python3"
  },
  "language_info": {
   "codemirror_mode": {
    "name": "ipython",
    "version": 2
   },
   "file_extension": ".py",
   "mimetype": "text/x-python",
   "name": "python",
   "nbconvert_exporter": "python",
   "pygments_lexer": "ipython2",
   "version": "2.7.6"
  }
 },
 "nbformat": 4,
 "nbformat_minor": 0
}